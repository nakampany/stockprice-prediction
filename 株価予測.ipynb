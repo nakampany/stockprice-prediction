{
  "nbformat": 4,
  "nbformat_minor": 0,
  "metadata": {
    "colab": {
      "provenance": [],
      "mount_file_id": "1mA7tGGpmZZCKz-gppCMp15sdmQOBaNgm",
      "authorship_tag": "ABX9TyPJngSbZy4B4Ags6fAhpNaq",
      "include_colab_link": true
    },
    "kernelspec": {
      "name": "python3",
      "display_name": "Python 3"
    },
    "language_info": {
      "name": "python"
    }
  },
  "cells": [
    {
      "cell_type": "markdown",
      "metadata": {
        "id": "view-in-github",
        "colab_type": "text"
      },
      "source": [
        "<a href=\"https://colab.research.google.com/github/nakampany/stockprice-prediction/blob/main/%E6%A0%AA%E4%BE%A1%E4%BA%88%E6%B8%AC.ipynb\" target=\"_parent\"><img src=\"https://colab.research.google.com/assets/colab-badge.svg\" alt=\"Open In Colab\"/></a>"
      ]
    },
    {
      "cell_type": "markdown",
      "source": [
        "# データ取得"
      ],
      "metadata": {
        "id": "IqnYnbroxJ7Q"
      }
    },
    {
      "cell_type": "code",
      "execution_count": 1,
      "metadata": {
        "id": "zv7G-pLjrpeC"
      },
      "outputs": [],
      "source": [
        "import torch\n",
        "import torch.nn as nn\n",
        "import numpy as np\n",
        "import pandas as pd\n",
        "import matplotlib.pyplot as plt"
      ]
    },
    {
      "cell_type": "code",
      "source": [
        "df = pd.read_csv(\"/content/drive/MyDrive/株価予測/all_stocks_5yr.csv\", index_col=0)"
      ],
      "metadata": {
        "id": "UvZMN48nr8IE"
      },
      "execution_count": 2,
      "outputs": []
    },
    {
      "cell_type": "code",
      "source": [
        "df"
      ],
      "metadata": {
        "colab": {
          "base_uri": "https://localhost:8080/",
          "height": 455
        },
        "id": "gkP4WD_Btzq6",
        "outputId": "916ee477-8ec2-41eb-eb6d-ab11e8219e53"
      },
      "execution_count": 3,
      "outputs": [
        {
          "output_type": "execute_result",
          "data": {
            "text/plain": [
              "             open   high    low  close    volume Name\n",
              "date                                                 \n",
              "2013-02-08  15.07  15.12  14.63  14.75   8407500  AAL\n",
              "2013-02-11  14.89  15.01  14.26  14.46   8882000  AAL\n",
              "2013-02-12  14.45  14.51  14.10  14.27   8126000  AAL\n",
              "2013-02-13  14.30  14.94  14.25  14.66  10259500  AAL\n",
              "2013-02-14  14.94  14.96  13.16  13.99  31879900  AAL\n",
              "...           ...    ...    ...    ...       ...  ...\n",
              "2018-02-01  76.84  78.27  76.69  77.82   2982259  ZTS\n",
              "2018-02-02  77.53  78.12  76.73  76.78   2595187  ZTS\n",
              "2018-02-05  76.64  76.92  73.18  73.83   2962031  ZTS\n",
              "2018-02-06  72.74  74.56  72.13  73.27   4924323  ZTS\n",
              "2018-02-07  72.70  75.00  72.69  73.86   4534912  ZTS\n",
              "\n",
              "[619040 rows x 6 columns]"
            ],
            "text/html": [
              "\n",
              "  <div id=\"df-de7a1f04-9a15-48de-994e-c89f277b9ac3\">\n",
              "    <div class=\"colab-df-container\">\n",
              "      <div>\n",
              "<style scoped>\n",
              "    .dataframe tbody tr th:only-of-type {\n",
              "        vertical-align: middle;\n",
              "    }\n",
              "\n",
              "    .dataframe tbody tr th {\n",
              "        vertical-align: top;\n",
              "    }\n",
              "\n",
              "    .dataframe thead th {\n",
              "        text-align: right;\n",
              "    }\n",
              "</style>\n",
              "<table border=\"1\" class=\"dataframe\">\n",
              "  <thead>\n",
              "    <tr style=\"text-align: right;\">\n",
              "      <th></th>\n",
              "      <th>open</th>\n",
              "      <th>high</th>\n",
              "      <th>low</th>\n",
              "      <th>close</th>\n",
              "      <th>volume</th>\n",
              "      <th>Name</th>\n",
              "    </tr>\n",
              "    <tr>\n",
              "      <th>date</th>\n",
              "      <th></th>\n",
              "      <th></th>\n",
              "      <th></th>\n",
              "      <th></th>\n",
              "      <th></th>\n",
              "      <th></th>\n",
              "    </tr>\n",
              "  </thead>\n",
              "  <tbody>\n",
              "    <tr>\n",
              "      <th>2013-02-08</th>\n",
              "      <td>15.07</td>\n",
              "      <td>15.12</td>\n",
              "      <td>14.63</td>\n",
              "      <td>14.75</td>\n",
              "      <td>8407500</td>\n",
              "      <td>AAL</td>\n",
              "    </tr>\n",
              "    <tr>\n",
              "      <th>2013-02-11</th>\n",
              "      <td>14.89</td>\n",
              "      <td>15.01</td>\n",
              "      <td>14.26</td>\n",
              "      <td>14.46</td>\n",
              "      <td>8882000</td>\n",
              "      <td>AAL</td>\n",
              "    </tr>\n",
              "    <tr>\n",
              "      <th>2013-02-12</th>\n",
              "      <td>14.45</td>\n",
              "      <td>14.51</td>\n",
              "      <td>14.10</td>\n",
              "      <td>14.27</td>\n",
              "      <td>8126000</td>\n",
              "      <td>AAL</td>\n",
              "    </tr>\n",
              "    <tr>\n",
              "      <th>2013-02-13</th>\n",
              "      <td>14.30</td>\n",
              "      <td>14.94</td>\n",
              "      <td>14.25</td>\n",
              "      <td>14.66</td>\n",
              "      <td>10259500</td>\n",
              "      <td>AAL</td>\n",
              "    </tr>\n",
              "    <tr>\n",
              "      <th>2013-02-14</th>\n",
              "      <td>14.94</td>\n",
              "      <td>14.96</td>\n",
              "      <td>13.16</td>\n",
              "      <td>13.99</td>\n",
              "      <td>31879900</td>\n",
              "      <td>AAL</td>\n",
              "    </tr>\n",
              "    <tr>\n",
              "      <th>...</th>\n",
              "      <td>...</td>\n",
              "      <td>...</td>\n",
              "      <td>...</td>\n",
              "      <td>...</td>\n",
              "      <td>...</td>\n",
              "      <td>...</td>\n",
              "    </tr>\n",
              "    <tr>\n",
              "      <th>2018-02-01</th>\n",
              "      <td>76.84</td>\n",
              "      <td>78.27</td>\n",
              "      <td>76.69</td>\n",
              "      <td>77.82</td>\n",
              "      <td>2982259</td>\n",
              "      <td>ZTS</td>\n",
              "    </tr>\n",
              "    <tr>\n",
              "      <th>2018-02-02</th>\n",
              "      <td>77.53</td>\n",
              "      <td>78.12</td>\n",
              "      <td>76.73</td>\n",
              "      <td>76.78</td>\n",
              "      <td>2595187</td>\n",
              "      <td>ZTS</td>\n",
              "    </tr>\n",
              "    <tr>\n",
              "      <th>2018-02-05</th>\n",
              "      <td>76.64</td>\n",
              "      <td>76.92</td>\n",
              "      <td>73.18</td>\n",
              "      <td>73.83</td>\n",
              "      <td>2962031</td>\n",
              "      <td>ZTS</td>\n",
              "    </tr>\n",
              "    <tr>\n",
              "      <th>2018-02-06</th>\n",
              "      <td>72.74</td>\n",
              "      <td>74.56</td>\n",
              "      <td>72.13</td>\n",
              "      <td>73.27</td>\n",
              "      <td>4924323</td>\n",
              "      <td>ZTS</td>\n",
              "    </tr>\n",
              "    <tr>\n",
              "      <th>2018-02-07</th>\n",
              "      <td>72.70</td>\n",
              "      <td>75.00</td>\n",
              "      <td>72.69</td>\n",
              "      <td>73.86</td>\n",
              "      <td>4534912</td>\n",
              "      <td>ZTS</td>\n",
              "    </tr>\n",
              "  </tbody>\n",
              "</table>\n",
              "<p>619040 rows × 6 columns</p>\n",
              "</div>\n",
              "      <button class=\"colab-df-convert\" onclick=\"convertToInteractive('df-de7a1f04-9a15-48de-994e-c89f277b9ac3')\"\n",
              "              title=\"Convert this dataframe to an interactive table.\"\n",
              "              style=\"display:none;\">\n",
              "        \n",
              "  <svg xmlns=\"http://www.w3.org/2000/svg\" height=\"24px\"viewBox=\"0 0 24 24\"\n",
              "       width=\"24px\">\n",
              "    <path d=\"M0 0h24v24H0V0z\" fill=\"none\"/>\n",
              "    <path d=\"M18.56 5.44l.94 2.06.94-2.06 2.06-.94-2.06-.94-.94-2.06-.94 2.06-2.06.94zm-11 1L8.5 8.5l.94-2.06 2.06-.94-2.06-.94L8.5 2.5l-.94 2.06-2.06.94zm10 10l.94 2.06.94-2.06 2.06-.94-2.06-.94-.94-2.06-.94 2.06-2.06.94z\"/><path d=\"M17.41 7.96l-1.37-1.37c-.4-.4-.92-.59-1.43-.59-.52 0-1.04.2-1.43.59L10.3 9.45l-7.72 7.72c-.78.78-.78 2.05 0 2.83L4 21.41c.39.39.9.59 1.41.59.51 0 1.02-.2 1.41-.59l7.78-7.78 2.81-2.81c.8-.78.8-2.07 0-2.86zM5.41 20L4 18.59l7.72-7.72 1.47 1.35L5.41 20z\"/>\n",
              "  </svg>\n",
              "      </button>\n",
              "      \n",
              "  <style>\n",
              "    .colab-df-container {\n",
              "      display:flex;\n",
              "      flex-wrap:wrap;\n",
              "      gap: 12px;\n",
              "    }\n",
              "\n",
              "    .colab-df-convert {\n",
              "      background-color: #E8F0FE;\n",
              "      border: none;\n",
              "      border-radius: 50%;\n",
              "      cursor: pointer;\n",
              "      display: none;\n",
              "      fill: #1967D2;\n",
              "      height: 32px;\n",
              "      padding: 0 0 0 0;\n",
              "      width: 32px;\n",
              "    }\n",
              "\n",
              "    .colab-df-convert:hover {\n",
              "      background-color: #E2EBFA;\n",
              "      box-shadow: 0px 1px 2px rgba(60, 64, 67, 0.3), 0px 1px 3px 1px rgba(60, 64, 67, 0.15);\n",
              "      fill: #174EA6;\n",
              "    }\n",
              "\n",
              "    [theme=dark] .colab-df-convert {\n",
              "      background-color: #3B4455;\n",
              "      fill: #D2E3FC;\n",
              "    }\n",
              "\n",
              "    [theme=dark] .colab-df-convert:hover {\n",
              "      background-color: #434B5C;\n",
              "      box-shadow: 0px 1px 3px 1px rgba(0, 0, 0, 0.15);\n",
              "      filter: drop-shadow(0px 1px 2px rgba(0, 0, 0, 0.3));\n",
              "      fill: #FFFFFF;\n",
              "    }\n",
              "  </style>\n",
              "\n",
              "      <script>\n",
              "        const buttonEl =\n",
              "          document.querySelector('#df-de7a1f04-9a15-48de-994e-c89f277b9ac3 button.colab-df-convert');\n",
              "        buttonEl.style.display =\n",
              "          google.colab.kernel.accessAllowed ? 'block' : 'none';\n",
              "\n",
              "        async function convertToInteractive(key) {\n",
              "          const element = document.querySelector('#df-de7a1f04-9a15-48de-994e-c89f277b9ac3');\n",
              "          const dataTable =\n",
              "            await google.colab.kernel.invokeFunction('convertToInteractive',\n",
              "                                                     [key], {});\n",
              "          if (!dataTable) return;\n",
              "\n",
              "          const docLinkHtml = 'Like what you see? Visit the ' +\n",
              "            '<a target=\"_blank\" href=https://colab.research.google.com/notebooks/data_table.ipynb>data table notebook</a>'\n",
              "            + ' to learn more about interactive tables.';\n",
              "          element.innerHTML = '';\n",
              "          dataTable['output_type'] = 'display_data';\n",
              "          await google.colab.output.renderOutput(dataTable, element);\n",
              "          const docLink = document.createElement('div');\n",
              "          docLink.innerHTML = docLinkHtml;\n",
              "          element.appendChild(docLink);\n",
              "        }\n",
              "      </script>\n",
              "    </div>\n",
              "  </div>\n",
              "  "
            ]
          },
          "metadata": {},
          "execution_count": 3
        }
      ]
    },
    {
      "cell_type": "markdown",
      "source": [
        "# 期間指定"
      ],
      "metadata": {
        "id": "FeQ2kP-xSC8-"
      }
    },
    {
      "cell_type": "code",
      "source": [
        "import datetime as dt"
      ],
      "metadata": {
        "id": "NdPsT3n9SN8z"
      },
      "execution_count": 4,
      "outputs": []
    },
    {
      "cell_type": "code",
      "source": [
        "df[(df['date'] >= dt.datetime(2017,12,31)) & (df['date'] < dt.datetime(2018,12,31))]"
      ],
      "metadata": {
        "id": "qqcnoWJ-SHo_"
      },
      "execution_count": null,
      "outputs": []
    },
    {
      "cell_type": "code",
      "source": [
        "df[100 : 200]"
      ],
      "metadata": {
        "colab": {
          "base_uri": "https://localhost:8080/",
          "height": 455
        },
        "id": "LeYZcVWqVFc3",
        "outputId": "8284fcc3-43ef-4f8d-8d54-ab22ee9ecca4"
      },
      "execution_count": 6,
      "outputs": [
        {
          "output_type": "execute_result",
          "data": {
            "text/plain": [
              "             open   high    low  close    volume Name\n",
              "date                                                 \n",
              "2013-07-03  16.06  16.80  16.04  16.75   2625800  AAL\n",
              "2013-07-05  16.93  17.00  16.68  16.84   2397200  AAL\n",
              "2013-07-08  16.94  17.09  16.85  16.94   2671200  AAL\n",
              "2013-07-09  17.01  17.38  16.97  17.36   4076600  AAL\n",
              "2013-07-10  17.32  17.48  17.01  17.17   4289700  AAL\n",
              "...           ...    ...    ...    ...       ...  ...\n",
              "2013-11-15  23.73  24.05  23.32  23.89  13660700  AAL\n",
              "2013-11-18  24.22  24.81  24.04  24.40  10080800  AAL\n",
              "2013-11-19  24.55  24.80  24.08  24.23  14087400  AAL\n",
              "2013-11-20  24.29  24.42  23.91  24.06  11182500  AAL\n",
              "2013-11-21  24.07  24.24  23.78  23.99   9920500  AAL\n",
              "\n",
              "[100 rows x 6 columns]"
            ],
            "text/html": [
              "\n",
              "  <div id=\"df-e72718cf-132f-4856-a6b7-1d4f1c73c988\">\n",
              "    <div class=\"colab-df-container\">\n",
              "      <div>\n",
              "<style scoped>\n",
              "    .dataframe tbody tr th:only-of-type {\n",
              "        vertical-align: middle;\n",
              "    }\n",
              "\n",
              "    .dataframe tbody tr th {\n",
              "        vertical-align: top;\n",
              "    }\n",
              "\n",
              "    .dataframe thead th {\n",
              "        text-align: right;\n",
              "    }\n",
              "</style>\n",
              "<table border=\"1\" class=\"dataframe\">\n",
              "  <thead>\n",
              "    <tr style=\"text-align: right;\">\n",
              "      <th></th>\n",
              "      <th>open</th>\n",
              "      <th>high</th>\n",
              "      <th>low</th>\n",
              "      <th>close</th>\n",
              "      <th>volume</th>\n",
              "      <th>Name</th>\n",
              "    </tr>\n",
              "    <tr>\n",
              "      <th>date</th>\n",
              "      <th></th>\n",
              "      <th></th>\n",
              "      <th></th>\n",
              "      <th></th>\n",
              "      <th></th>\n",
              "      <th></th>\n",
              "    </tr>\n",
              "  </thead>\n",
              "  <tbody>\n",
              "    <tr>\n",
              "      <th>2013-07-03</th>\n",
              "      <td>16.06</td>\n",
              "      <td>16.80</td>\n",
              "      <td>16.04</td>\n",
              "      <td>16.75</td>\n",
              "      <td>2625800</td>\n",
              "      <td>AAL</td>\n",
              "    </tr>\n",
              "    <tr>\n",
              "      <th>2013-07-05</th>\n",
              "      <td>16.93</td>\n",
              "      <td>17.00</td>\n",
              "      <td>16.68</td>\n",
              "      <td>16.84</td>\n",
              "      <td>2397200</td>\n",
              "      <td>AAL</td>\n",
              "    </tr>\n",
              "    <tr>\n",
              "      <th>2013-07-08</th>\n",
              "      <td>16.94</td>\n",
              "      <td>17.09</td>\n",
              "      <td>16.85</td>\n",
              "      <td>16.94</td>\n",
              "      <td>2671200</td>\n",
              "      <td>AAL</td>\n",
              "    </tr>\n",
              "    <tr>\n",
              "      <th>2013-07-09</th>\n",
              "      <td>17.01</td>\n",
              "      <td>17.38</td>\n",
              "      <td>16.97</td>\n",
              "      <td>17.36</td>\n",
              "      <td>4076600</td>\n",
              "      <td>AAL</td>\n",
              "    </tr>\n",
              "    <tr>\n",
              "      <th>2013-07-10</th>\n",
              "      <td>17.32</td>\n",
              "      <td>17.48</td>\n",
              "      <td>17.01</td>\n",
              "      <td>17.17</td>\n",
              "      <td>4289700</td>\n",
              "      <td>AAL</td>\n",
              "    </tr>\n",
              "    <tr>\n",
              "      <th>...</th>\n",
              "      <td>...</td>\n",
              "      <td>...</td>\n",
              "      <td>...</td>\n",
              "      <td>...</td>\n",
              "      <td>...</td>\n",
              "      <td>...</td>\n",
              "    </tr>\n",
              "    <tr>\n",
              "      <th>2013-11-15</th>\n",
              "      <td>23.73</td>\n",
              "      <td>24.05</td>\n",
              "      <td>23.32</td>\n",
              "      <td>23.89</td>\n",
              "      <td>13660700</td>\n",
              "      <td>AAL</td>\n",
              "    </tr>\n",
              "    <tr>\n",
              "      <th>2013-11-18</th>\n",
              "      <td>24.22</td>\n",
              "      <td>24.81</td>\n",
              "      <td>24.04</td>\n",
              "      <td>24.40</td>\n",
              "      <td>10080800</td>\n",
              "      <td>AAL</td>\n",
              "    </tr>\n",
              "    <tr>\n",
              "      <th>2013-11-19</th>\n",
              "      <td>24.55</td>\n",
              "      <td>24.80</td>\n",
              "      <td>24.08</td>\n",
              "      <td>24.23</td>\n",
              "      <td>14087400</td>\n",
              "      <td>AAL</td>\n",
              "    </tr>\n",
              "    <tr>\n",
              "      <th>2013-11-20</th>\n",
              "      <td>24.29</td>\n",
              "      <td>24.42</td>\n",
              "      <td>23.91</td>\n",
              "      <td>24.06</td>\n",
              "      <td>11182500</td>\n",
              "      <td>AAL</td>\n",
              "    </tr>\n",
              "    <tr>\n",
              "      <th>2013-11-21</th>\n",
              "      <td>24.07</td>\n",
              "      <td>24.24</td>\n",
              "      <td>23.78</td>\n",
              "      <td>23.99</td>\n",
              "      <td>9920500</td>\n",
              "      <td>AAL</td>\n",
              "    </tr>\n",
              "  </tbody>\n",
              "</table>\n",
              "<p>100 rows × 6 columns</p>\n",
              "</div>\n",
              "      <button class=\"colab-df-convert\" onclick=\"convertToInteractive('df-e72718cf-132f-4856-a6b7-1d4f1c73c988')\"\n",
              "              title=\"Convert this dataframe to an interactive table.\"\n",
              "              style=\"display:none;\">\n",
              "        \n",
              "  <svg xmlns=\"http://www.w3.org/2000/svg\" height=\"24px\"viewBox=\"0 0 24 24\"\n",
              "       width=\"24px\">\n",
              "    <path d=\"M0 0h24v24H0V0z\" fill=\"none\"/>\n",
              "    <path d=\"M18.56 5.44l.94 2.06.94-2.06 2.06-.94-2.06-.94-.94-2.06-.94 2.06-2.06.94zm-11 1L8.5 8.5l.94-2.06 2.06-.94-2.06-.94L8.5 2.5l-.94 2.06-2.06.94zm10 10l.94 2.06.94-2.06 2.06-.94-2.06-.94-.94-2.06-.94 2.06-2.06.94z\"/><path d=\"M17.41 7.96l-1.37-1.37c-.4-.4-.92-.59-1.43-.59-.52 0-1.04.2-1.43.59L10.3 9.45l-7.72 7.72c-.78.78-.78 2.05 0 2.83L4 21.41c.39.39.9.59 1.41.59.51 0 1.02-.2 1.41-.59l7.78-7.78 2.81-2.81c.8-.78.8-2.07 0-2.86zM5.41 20L4 18.59l7.72-7.72 1.47 1.35L5.41 20z\"/>\n",
              "  </svg>\n",
              "      </button>\n",
              "      \n",
              "  <style>\n",
              "    .colab-df-container {\n",
              "      display:flex;\n",
              "      flex-wrap:wrap;\n",
              "      gap: 12px;\n",
              "    }\n",
              "\n",
              "    .colab-df-convert {\n",
              "      background-color: #E8F0FE;\n",
              "      border: none;\n",
              "      border-radius: 50%;\n",
              "      cursor: pointer;\n",
              "      display: none;\n",
              "      fill: #1967D2;\n",
              "      height: 32px;\n",
              "      padding: 0 0 0 0;\n",
              "      width: 32px;\n",
              "    }\n",
              "\n",
              "    .colab-df-convert:hover {\n",
              "      background-color: #E2EBFA;\n",
              "      box-shadow: 0px 1px 2px rgba(60, 64, 67, 0.3), 0px 1px 3px 1px rgba(60, 64, 67, 0.15);\n",
              "      fill: #174EA6;\n",
              "    }\n",
              "\n",
              "    [theme=dark] .colab-df-convert {\n",
              "      background-color: #3B4455;\n",
              "      fill: #D2E3FC;\n",
              "    }\n",
              "\n",
              "    [theme=dark] .colab-df-convert:hover {\n",
              "      background-color: #434B5C;\n",
              "      box-shadow: 0px 1px 3px 1px rgba(0, 0, 0, 0.15);\n",
              "      filter: drop-shadow(0px 1px 2px rgba(0, 0, 0, 0.3));\n",
              "      fill: #FFFFFF;\n",
              "    }\n",
              "  </style>\n",
              "\n",
              "      <script>\n",
              "        const buttonEl =\n",
              "          document.querySelector('#df-e72718cf-132f-4856-a6b7-1d4f1c73c988 button.colab-df-convert');\n",
              "        buttonEl.style.display =\n",
              "          google.colab.kernel.accessAllowed ? 'block' : 'none';\n",
              "\n",
              "        async function convertToInteractive(key) {\n",
              "          const element = document.querySelector('#df-e72718cf-132f-4856-a6b7-1d4f1c73c988');\n",
              "          const dataTable =\n",
              "            await google.colab.kernel.invokeFunction('convertToInteractive',\n",
              "                                                     [key], {});\n",
              "          if (!dataTable) return;\n",
              "\n",
              "          const docLinkHtml = 'Like what you see? Visit the ' +\n",
              "            '<a target=\"_blank\" href=https://colab.research.google.com/notebooks/data_table.ipynb>data table notebook</a>'\n",
              "            + ' to learn more about interactive tables.';\n",
              "          element.innerHTML = '';\n",
              "          dataTable['output_type'] = 'display_data';\n",
              "          await google.colab.output.renderOutput(dataTable, element);\n",
              "          const docLink = document.createElement('div');\n",
              "          docLink.innerHTML = docLinkHtml;\n",
              "          element.appendChild(docLink);\n",
              "        }\n",
              "      </script>\n",
              "    </div>\n",
              "  </div>\n",
              "  "
            ]
          },
          "metadata": {},
          "execution_count": 6
        }
      ]
    },
    {
      "cell_type": "code",
      "source": [
        "df.drop(['volume', 'high', 'low', 'close', 'Name'], axis=\"columns\", inplace=True)"
      ],
      "metadata": {
        "id": "QJxVs-SFt0ql"
      },
      "execution_count": null,
      "outputs": []
    },
    {
      "cell_type": "code",
      "source": [
        "df.plot(figsize=(12, 4))"
      ],
      "metadata": {
        "colab": {
          "base_uri": "https://localhost:8080/",
          "height": 307
        },
        "id": "tl5-HLUlvQgk",
        "outputId": "ba0645d4-8103-4e55-aceb-87c3ea4c3f29"
      },
      "execution_count": 8,
      "outputs": [
        {
          "output_type": "execute_result",
          "data": {
            "text/plain": [
              "<matplotlib.axes._subplots.AxesSubplot at 0x7fb261edf400>"
            ]
          },
          "metadata": {},
          "execution_count": 8
        },
        {
          "output_type": "display_data",
          "data": {
            "text/plain": [
              "<Figure size 864x288 with 1 Axes>"
            ],
            "image/png": "[encoded data removed]"
          },
          "metadata": {
            "needs_background": "light"
          }
        }
      ]
    },
    {
      "cell_type": "markdown",
      "source": [
        "# 正規化"
      ],
      "metadata": {
        "id": "9w9kF6iow851"
      }
    },
    {
      "cell_type": "code",
      "source": [
        "from sklearn.preprocessing import MinMaxScaler"
      ],
      "metadata": {
        "id": "6_GiQlQtw_Ik"
      },
      "execution_count": null,
      "outputs": []
    },
    {
      "cell_type": "code",
      "source": [
        "y = df[\"open\"].values\n",
        "y"
      ],
      "metadata": {
        "colab": {
          "base_uri": "https://localhost:8080/"
        },
        "id": "9QjfDiYf_o-_",
        "outputId": "ef3ae4ba-32ea-44c2-906f-f602c9a8a793"
      },
      "execution_count": null,
      "outputs": [
        {
          "output_type": "execute_result",
          "data": {
            "text/plain": [
              "array([15.07, 14.89, 14.45, ..., 76.64, 72.74, 72.7 ])"
            ]
          },
          "metadata": {},
          "execution_count": 6
        }
      ]
    },
    {
      "cell_type": "code",
      "source": [
        "scaler = MinMaxScaler(feature_range=(-1, 1))\n",
        "scaler.fit(y.reshape(-1, 1))\n",
        "y = scaler.transform(y.reshape(-1, 1))"
      ],
      "metadata": {
        "id": "j7sZM2MN0ePe"
      },
      "execution_count": null,
      "outputs": []
    },
    {
      "cell_type": "code",
      "source": [
        "y = torch.FloatTensor(y).view(-1)\n",
        "y"
      ],
      "metadata": {
        "colab": {
          "base_uri": "https://localhost:8080/"
        },
        "id": "r8OkAyso-sPq",
        "outputId": "45fc20ca-155e-4065-9ac6-bd936fbedaa7"
      },
      "execution_count": null,
      "outputs": [
        {
          "output_type": "execute_result",
          "data": {
            "text/plain": [
              "tensor([-0.9868, -0.9870, -0.9874,  ..., -0.9265, -0.9304, -0.9304])"
            ]
          },
          "metadata": {},
          "execution_count": 8
        }
      ]
    },
    {
      "cell_type": "code",
      "source": [
        "test_size = 200\n",
        "\n",
        "train_seq = y[:-test_size]\n",
        "test_seq = y[-test_size:]"
      ],
      "metadata": {
        "id": "B732cOZj-3Dk"
      },
      "execution_count": null,
      "outputs": []
    },
    {
      "cell_type": "code",
      "source": [
        "plt.figure(figsize=(12, 4))\n",
        "plt.xlim(-20, len(test_seq)+20)\n",
        "plt.grid(True)\n",
        "plt.plot(test_seq)"
      ],
      "metadata": {
        "colab": {
          "base_uri": "https://localhost:8080/",
          "height": 283
        },
        "id": "McydBgOi-_Ty",
        "outputId": "f0e92744-4bb0-4004-cb09-abbe9d1b65d0"
      },
      "execution_count": null,
      "outputs": [
        {
          "output_type": "execute_result",
          "data": {
            "text/plain": [
              "[<matplotlib.lines.Line2D at 0x7f21c9f62820>]"
            ]
          },
          "metadata": {},
          "execution_count": 10
        },
        {
          "output_type": "display_data",
          "data": {
            "text/plain": [
              "<Figure size 864x288 with 1 Axes>"
            ],
            "image/png": "[encoded data removed]"
          },
          "metadata": {
            "needs_background": "light"
          }
        }
      ]
    },
    {
      "cell_type": "markdown",
      "source": [
        "# テストデータ作成"
      ],
      "metadata": {
        "id": "5tumfXRfF4KS"
      }
    },
    {
      "cell_type": "code",
      "source": [
        "def input_data(data, size):\n",
        "  out=[]\n",
        "  L=len(data)\n",
        "\n",
        "  for i in range(L-size):\n",
        "    window = data[i:i+size]\n",
        "    label = data[i+size:i+size+1]\n",
        "    out.append((window, label))\n",
        "\n",
        "  return out "
      ],
      "metadata": {
        "id": "SK7UL9NYAEHB"
      },
      "execution_count": null,
      "outputs": []
    },
    {
      "cell_type": "code",
      "source": [
        "train_window_size = 12"
      ],
      "metadata": {
        "id": "8FwUdpc6FOzl"
      },
      "execution_count": null,
      "outputs": []
    },
    {
      "cell_type": "code",
      "source": [
        "train_data = input_data(train_seq, train_window_size)"
      ],
      "metadata": {
        "id": "4UmDHrcdAK57"
      },
      "execution_count": null,
      "outputs": []
    },
    {
      "cell_type": "code",
      "source": [
        "print(\"Training Dataの個数: \", len(train_data))"
      ],
      "metadata": {
        "colab": {
          "base_uri": "https://localhost:8080/"
        },
        "id": "zLJwHi5bFVHX",
        "outputId": "05103690-ffa6-487a-deca-fa911e0e8135"
      },
      "execution_count": null,
      "outputs": [
        {
          "output_type": "stream",
          "name": "stdout",
          "text": [
            "Training Dataの個数:  618828\n"
          ]
        }
      ]
    },
    {
      "cell_type": "code",
      "source": [
        "class Model(nn.Module):\n",
        "\n",
        "\n",
        "    def __init__(self, input=1, h=50, output=1):\n",
        "        super().__init__()\n",
        "        self.hidden_size = h\n",
        "\n",
        "        self.lstm = nn.LSTM(input, h)\n",
        "        self.fc = nn.Linear(h, output)\n",
        "\n",
        "        self.hidden = (\n",
        "            torch.zeros(1, 1, h),\n",
        "            torch.zeros(1, 1, h)\n",
        "        )\n",
        "    \n",
        "\n",
        "    def forward(self, seq):\n",
        "\n",
        "        out, _ = self.lstm(\n",
        "            seq.view(len(seq), 1, -1),\n",
        "            self.hidden\n",
        "        )\n",
        "\n",
        "        out = self.fc(\n",
        "            out.view(len(seq), -1)\n",
        "        )\n",
        "\n",
        "        return out[-1]"
      ],
      "metadata": {
        "id": "nmBTwPR9Fgmg"
      },
      "execution_count": null,
      "outputs": []
    },
    {
      "cell_type": "code",
      "source": [
        "torch.manual_seed(123)\n",
        "model = Model()\n",
        "criterion = nn.MSELoss()\n",
        "optimizer = torch.optim.SGD(model.parameters(), lr=0.01)"
      ],
      "metadata": {
        "id": "6KHWIUa4F12k"
      },
      "execution_count": null,
      "outputs": []
    },
    {
      "cell_type": "code",
      "source": [
        "epochs = 3\n",
        "train_losses = []\n",
        "test_losses = []"
      ],
      "metadata": {
        "id": "BsEVF7RWF_Dy"
      },
      "execution_count": null,
      "outputs": []
    },
    {
      "cell_type": "code",
      "source": [
        "def run_train():\n",
        "    model.train()\n",
        "\n",
        "    for train_window, correct_label in train_data:\n",
        "\n",
        "        optimizer.zero_grad()\n",
        "\n",
        "        model.hidden = (\n",
        "            torch.zeros(1, 1, model.hidden_size),\n",
        "            torch.zeros(1, 1, model.hidden_size)\n",
        "        )\n",
        "\n",
        "        train_predicted_label = model.forward(train_window)\n",
        "        train_loss = criterion(train_predicted_label, correct_label)\n",
        "\n",
        "        train_loss.backward()\n",
        "        optimizer.step()\n",
        "\n",
        "        train_losses.append(train_loss)"
      ],
      "metadata": {
        "id": "XYPUWrhRGIKA"
      },
      "execution_count": null,
      "outputs": []
    },
    {
      "cell_type": "markdown",
      "source": [
        "- a = torch.tensor([10])\n",
        "- a.item()\n",
        "10"
      ],
      "metadata": {
        "id": "kdJujWNlGY5t"
      }
    },
    {
      "cell_type": "code",
      "source": [
        "def run_test():\n",
        "    model.eval()\n",
        "\n",
        "    for i in range(test_size):\n",
        "\n",
        "        test_window = torch.FloatTensor(extending_seq[-test_size:])\n",
        "\n",
        "        with torch.no_grad():\n",
        "\n",
        "            model.hidden = (\n",
        "                torch.zeros(1, 1, model.hidden_size),\n",
        "                torch.zeros(1, 1, model.hidden_size)\n",
        "            )  \n",
        "        \n",
        "            test_predicted_label = model.forward(test_window)\n",
        "            extending_seq.append(test_predicted_label.item())\n",
        "    \n",
        "    test_loss = criterion(\n",
        "        torch.FloatTensor(extending_seq[-test_size:]),\n",
        "        y[len(y)-test_size:]\n",
        "    )\n",
        "\n",
        "    test_losses.append(test_loss)"
      ],
      "metadata": {
        "id": "Z19FJLdXGS_O"
      },
      "execution_count": null,
      "outputs": []
    },
    {
      "cell_type": "code",
      "source": [
        "for epoch in range(epochs):\n",
        "\n",
        "    print()\n",
        "    print(f'Epoch: {epoch+1}')\n",
        "\n",
        "    run_train()\n",
        "\n",
        "    extending_seq = train_seq[-test_size:].tolist()\n",
        "\n",
        "    run_test()\n",
        "\n",
        "    plt.figure(figsize=(12, 4))\n",
        "    plt.xlim(-20, len(y)+20)\n",
        "    plt.grid(True)\n",
        "\n",
        "    plt.plot(y.numpy())\n",
        "\n",
        "    plt.plot(\n",
        "        range(len(y)-test_size, len(y)),\n",
        "        extending_seq[-test_size:]\n",
        "    )\n",
        "\n",
        "    plt.show()"
      ],
      "metadata": {
        "colab": {
          "base_uri": "https://localhost:8080/"
        },
        "id": "7Rox6BeCG8qH",
        "outputId": "36c198f7-cb2d-4432-9c04-4e3e0849213a"
      },
      "execution_count": null,
      "outputs": [
        {
          "output_type": "stream",
          "name": "stdout",
          "text": [
            "\n",
            "Epoch: 1\n"
          ]
        }
      ]
    },
    {
      "cell_type": "code",
      "source": [
        "# 誤差がどのように収束しいったか\n",
        "plt.plot(train_losses)"
      ],
      "metadata": {
        "id": "mcu5ng0MO-8-"
      },
      "execution_count": null,
      "outputs": []
    },
    {
      "cell_type": "code",
      "source": [
        "plt.plot(test_losses)"
      ],
      "metadata": {
        "id": "mT73bDSLPMQh"
      },
      "execution_count": null,
      "outputs": []
    },
    {
      "cell_type": "code",
      "source": [
        "predicted_normalized_labels_list = extending_seq[-test_size:]"
      ],
      "metadata": {
        "id": "m6T1dV-KPM8t"
      },
      "execution_count": null,
      "outputs": []
    },
    {
      "cell_type": "code",
      "source": [
        "predicted_normalized_labels_array_1d = np.array(predicted_normalized_labels_list)\n",
        "predicted_normalized_labels_array_1d"
      ],
      "metadata": {
        "id": "HqltzmwsPQkk"
      },
      "execution_count": null,
      "outputs": []
    },
    {
      "cell_type": "code",
      "source": [
        "predicted_normalized_labels_array_2d = predicted_normalized_labels_array_1d.reshape(-1, 1)\n",
        "predicted_normalized_labels_array_2d"
      ],
      "metadata": {
        "id": "Q0VoaDnpPSoU"
      },
      "execution_count": null,
      "outputs": []
    },
    {
      "cell_type": "code",
      "source": [
        "predicted_labels_array_2d = scaler.inverse_transform(predicted_normalized_labels_array_2d)\n",
        "predicted_labels_array_2d"
      ],
      "metadata": {
        "id": "p2CbPtp5PZLx"
      },
      "execution_count": null,
      "outputs": []
    },
    {
      "cell_type": "code",
      "source": [
        "len(predicted_labels_array_2d)"
      ],
      "metadata": {
        "id": "XnxOM7NwP1IS"
      },
      "execution_count": null,
      "outputs": []
    },
    {
      "cell_type": "code",
      "source": [
        "ｄｆ[\"open\"][-test_size:]"
      ],
      "metadata": {
        "id": "_RFOGt0PP5XH"
      },
      "execution_count": null,
      "outputs": []
    },
    {
      "cell_type": "code",
      "source": [
        "len(df[\"open\"][-test_size:])"
      ],
      "metadata": {
        "id": "HMNvJFMxP7P6"
      },
      "execution_count": null,
      "outputs": []
    },
    {
      "cell_type": "code",
      "source": [
        "ｄｆ.index"
      ],
      "metadata": {
        "id": "61nv5OzbPxla"
      },
      "execution_count": null,
      "outputs": []
    },
    {
      "cell_type": "code",
      "source": [
        "x_2018_10_to_2020_09 = np.arange('2018-10', '2020-10', dtype='datetime64[M]')\n",
        "x_2018_10_to_2020_09"
      ],
      "metadata": {
        "id": "BaP93TOwPu-C"
      },
      "execution_count": null,
      "outputs": []
    },
    {
      "cell_type": "code",
      "source": [
        "fig = plt.figure(figsize=(12, 4))\n",
        "plt.title('Stock Price Prediction')\n",
        "plt.ylabel('Price')\n",
        "plt.grid(True)\n",
        "plt.autoscale(axis='x', tight=True)\n",
        "fig.autofmt_xdate()\n",
        "\n",
        "plt.plot(stock_data[\"Adj Close\"]['2016-01':])\n",
        "plt.plot(x_2018_10_to_2020_09, predicted_labels_array_2d)\n",
        "plt.show()"
      ],
      "metadata": {
        "id": "gaQgGj1WQLhe"
      },
      "execution_count": null,
      "outputs": []
    },
    {
      "cell_type": "code",
      "source": [
        "stock_data[\"Adj Close\"]['2018-10':]"
      ],
      "metadata": {
        "id": "4JXcEpGUQNZt"
      },
      "execution_count": null,
      "outputs": []
    }
  ]
}